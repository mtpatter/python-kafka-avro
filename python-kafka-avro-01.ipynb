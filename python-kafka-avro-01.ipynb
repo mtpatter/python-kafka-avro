{
 "cells": [
  {
   "cell_type": "markdown",
   "metadata": {},
   "source": [
    "# Using Python to send Avro data with Kafka"
   ]
  },
  {
   "cell_type": "markdown",
   "metadata": {},
   "source": [
    "Notes for using Python with the confluent-kafka Python client (which uses [librdkafka](https://github.com/edenhill/librdkafka)) to send Avro data in Kafka.\n",
    "\n",
    "This version uses the following:\n",
    "\n",
    "1. Kafka version 0.10 from the Confluent docker repo\n",
    "2. zookeeper from wurstmeister's docker repo\n",
    "3. my own docker image with the new Python client from Kafka (confluent-kafka) and avro-python3\n",
    "4. simple producer and consumer scripts modified from [cuongbangoc's upstream repo](https://github.com/cuongbangoc/python-kafka-avro)\n",
    "\n",
    "Not sure if this is the best way to do these things, but it works for me currently.\n",
    "\n",
    "I used these very helpful resources:\n",
    "\n",
    "https://activisiongamescience.github.io/2016/06/15/Kafka-Client-Benchmarking/  \n",
    "https://github.com/cuongbangoc/python-kafka-avro  \n",
    "https://gist.github.com/jakekdodd/e7ee38fd945818d86eb4  \n",
    "https://sonnguyen.ws/simple-example-python-kafka-avro/"
   ]
  },
  {
   "cell_type": "markdown",
   "metadata": {},
   "source": [
    "## To run this demo"
   ]
  },
  {
   "cell_type": "markdown",
   "metadata": {},
   "source": [
    "Start a Kafka broker and zookeeper with docker-compose:"
   ]
  },
  {
   "cell_type": "code",
   "execution_count": 1,
   "metadata": {
    "collapsed": false
   },
   "outputs": [
    {
     "name": "stdout",
     "output_type": "stream",
     "text": [
      "Creating network \"pythonkafkaavro_default\" with the default driver\n",
      "Creating pythonkafkaavro_zookeeper_1\n",
      "Creating pythonkafkaavro_kafka_1\n"
     ]
    }
   ],
   "source": [
    "!docker-compose up -d"
   ]
  },
  {
   "cell_type": "markdown",
   "metadata": {},
   "source": [
    "Get a producer going to produce some Avro data:"
   ]
  },
  {
   "cell_type": "code",
   "execution_count": 2,
   "metadata": {
    "collapsed": false
   },
   "outputs": [],
   "source": [
    "!docker run -it -P --network=host --volume=${PWD}:/home mtpatter/python-kafka-avro python producer.py"
   ]
  },
  {
   "cell_type": "markdown",
   "metadata": {},
   "source": [
    "Get a consumer going to listen:"
   ]
  },
  {
   "cell_type": "code",
   "execution_count": null,
   "metadata": {
    "collapsed": false
   },
   "outputs": [
    {
     "name": "stdout",
     "output_type": "stream",
     "text": [
      "% my-topic [0] at offset 0 with key None:\n",
      "{'favorite_number': 6, 'favorite_color': '111', 'name': '123'}\n",
      "% my-topic [0] at offset 1 with key None:\n",
      "{'favorite_number': 2, 'favorite_color': '111', 'name': '123'}\n",
      "% my-topic [0] at offset 2 with key None:\n",
      "{'favorite_number': 7, 'favorite_color': '111', 'name': '123'}\n",
      "% my-topic [0] at offset 3 with key None:\n",
      "{'favorite_number': 3, 'favorite_color': '111', 'name': '123'}\n",
      "% my-topic [0] at offset 4 with key None:\n",
      "{'favorite_number': 8, 'favorite_color': '111', 'name': '123'}\n",
      "% my-topic [0] at offset 5 with key None:\n",
      "{'favorite_number': 2, 'favorite_color': '111', 'name': '123'}\n",
      "% my-topic [0] at offset 6 with key None:\n",
      "{'favorite_number': 10, 'favorite_color': '111', 'name': '123'}\n",
      "% my-topic [0] at offset 7 with key None:\n",
      "{'favorite_number': 4, 'favorite_color': '111', 'name': '123'}\n",
      "% my-topic [0] at offset 8 with key None:\n",
      "{'favorite_number': 2, 'favorite_color': '111', 'name': '123'}\n",
      "% my-topic [0] at offset 9 with key None:\n",
      "{'favorite_number': 4, 'favorite_color': '111', 'name': '123'}\n",
      "% my-topic [0] reached end at offset 10\n"
     ]
    }
   ],
   "source": [
    "!docker run -it -P --network=host --volume=${PWD}:/home mtpatter/python-kafka-avro python -u consumer.py"
   ]
  },
  {
   "cell_type": "markdown",
   "metadata": {},
   "source": [
    "Output appears in consumer.  Remember to clean up by shutting down producer and consumer and run \"docker-compose down\" to shut down Kafka."
   ]
  }
 ],
 "metadata": {
  "kernelspec": {
   "display_name": "Python [Root]",
   "language": "python",
   "name": "Python [Root]"
  },
  "language_info": {
   "codemirror_mode": {
    "name": "ipython",
    "version": 2
   },
   "file_extension": ".py",
   "mimetype": "text/x-python",
   "name": "python",
   "nbconvert_exporter": "python",
   "pygments_lexer": "ipython2",
   "version": "2.7.12"
  }
 },
 "nbformat": 4,
 "nbformat_minor": 0
}
